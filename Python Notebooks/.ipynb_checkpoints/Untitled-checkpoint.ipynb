{
 "cells": [
  {
   "cell_type": "code",
   "execution_count": null,
   "id": "1730061b",
   "metadata": {},
   "outputs": [],
   "source": [
    "G = 0.0\n",
    "rho = 10.9 # [S/m]. Ionic conductivity of the solution\n",
    "L = 15e-9 # [m]. Membrane thickness\n",
    "d = 300e-9 # [m]. Nanopore diameter"
   ]
  },
  {
   "cell_type": "code",
   "execution_count": 13,
   "id": "727531bd",
   "metadata": {},
   "outputs": [
    {
     "name": "stdout",
     "output_type": "stream",
     "text": [
      "3.0742847865836324e-06\n"
     ]
    }
   ],
   "source": [
    "G = rho*(((4*L)/(3.14159*d*d))+(1/d))**(-1)\n",
    "print(G)"
   ]
  }
 ],
 "metadata": {
  "kernelspec": {
   "display_name": "Python 3 (ipykernel)",
   "language": "python",
   "name": "python3"
  },
  "language_info": {
   "codemirror_mode": {
    "name": "ipython",
    "version": 3
   },
   "file_extension": ".py",
   "mimetype": "text/x-python",
   "name": "python",
   "nbconvert_exporter": "python",
   "pygments_lexer": "ipython3",
   "version": "3.9.13"
  }
 },
 "nbformat": 4,
 "nbformat_minor": 5
}
