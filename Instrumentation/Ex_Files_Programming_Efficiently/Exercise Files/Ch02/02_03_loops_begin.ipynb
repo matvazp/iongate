{
 "cells": [
  {
   "cell_type": "markdown",
   "metadata": {},
   "source": [
    "## 02_03: Design efficient loops"
   ]
  },
  {
   "cell_type": "code",
   "execution_count": 1,
   "metadata": {},
   "outputs": [],
   "source": [
    "import numpy as np\n",
    "import matplotlib.pyplot as pp"
   ]
  },
  {
   "cell_type": "code",
   "execution_count": 5,
   "metadata": {},
   "outputs": [
    {
     "ename": "ModuleNotFoundError",
     "evalue": "No module named 'cartopy'",
     "output_type": "error",
     "traceback": [
      "\u001b[1;31m---------------------------------------------------------------------------\u001b[0m",
      "\u001b[1;31mModuleNotFoundError\u001b[0m                       Traceback (most recent call last)",
      "\u001b[1;32m~\\AppData\\Local\\Temp\\ipykernel_3812\\1510075352.py\u001b[0m in \u001b[0;36m<module>\u001b[1;34m\u001b[0m\n\u001b[0;32m      1\u001b[0m \u001b[1;32mimport\u001b[0m \u001b[0mgeopy\u001b[0m\u001b[1;33m\u001b[0m\u001b[1;33m\u001b[0m\u001b[0m\n\u001b[1;32m----> 2\u001b[1;33m \u001b[1;32mimport\u001b[0m \u001b[0mcartopy\u001b[0m\u001b[1;33m\u001b[0m\u001b[1;33m\u001b[0m\u001b[0m\n\u001b[0m",
      "\u001b[1;31mModuleNotFoundError\u001b[0m: No module named 'cartopy'"
     ]
    }
   ],
   "source": [
    "import geopy\n",
    "import cartopy"
   ]
  },
  {
   "cell_type": "code",
   "execution_count": null,
   "metadata": {},
   "outputs": [],
   "source": [
    "for n in [1,1,2,3,5,8,13,21,34,55]:\n",
    "    print(n)"
   ]
  },
  {
   "cell_type": "code",
   "execution_count": null,
   "metadata": {},
   "outputs": [],
   "source": [
    "for l in \"Fibonacci\":\n",
    "    print(l)"
   ]
  },
  {
   "cell_type": "code",
   "execution_count": null,
   "metadata": {},
   "outputs": [],
   "source": [
    "it = iter(\"Fib\")\n",
    "print(it.__next__())\n",
    "print(it.__next__())\n",
    "print(it.__next__())\n",
    "print(it.__next__())"
   ]
  },
  {
   "cell_type": "code",
   "execution_count": 6,
   "metadata": {},
   "outputs": [
    {
     "name": "stdout",
     "output_type": "stream",
     "text": [
      "Athens (1896)\n",
      "Paris (1900)\n",
      "St Louis (1904)\n",
      "London (1908)\n",
      "Stockholm (1912)\n",
      "Antwerp (1920)\n",
      "Paris (1924)\n",
      "Amsterdam (1928)\n",
      "Los Angeles (1932)\n",
      "Berlin (1936)\n",
      "London (1948)\n",
      "Helsinki (1952)\n",
      "Melbourne / Stockholm (1956)\n",
      "Rome (1960)\n",
      "Tokyo (1964)\n",
      "Mexico (1968)\n",
      "Munich (1972)\n",
      "Montreal (1976)\n",
      "Moscow (1980)\n",
      "Los Angeles (1984)\n",
      "Seoul (1988)\n",
      "Barcelona (1992)\n",
      "Atlanta (1996)\n",
      "Sydney (2000)\n",
      "Athens (2004)\n",
      "Beijing (2008)\n",
      "London (2012)\n",
      "Rio (2016)\n"
     ]
    }
   ],
   "source": [
    "for game in open('games.txt', 'r'):\n",
    "    print(game, end='')"
   ]
  },
  {
   "cell_type": "code",
   "execution_count": 7,
   "metadata": {},
   "outputs": [
    {
     "name": "stdout",
     "output_type": "stream",
     "text": [
      "City: Athens - year: (1896)\n",
      "City: Paris - year: (1900)\n",
      "City: St - year: Louis\n",
      "City: London - year: (1908)\n",
      "City: Stockholm - year: (1912)\n",
      "City: Antwerp - year: (1920)\n",
      "City: Paris - year: (1924)\n",
      "City: Amsterdam - year: (1928)\n",
      "City: Los - year: Angeles\n",
      "City: Berlin - year: (1936)\n",
      "City: London - year: (1948)\n",
      "City: Helsinki - year: (1952)\n",
      "City: Melbourne - year: /\n",
      "City: Rome - year: (1960)\n",
      "City: Tokyo - year: (1964)\n",
      "City: Mexico - year: (1968)\n",
      "City: Munich - year: (1972)\n",
      "City: Montreal - year: (1976)\n",
      "City: Moscow - year: (1980)\n",
      "City: Los - year: Angeles\n",
      "City: Seoul - year: (1988)\n",
      "City: Barcelona - year: (1992)\n",
      "City: Atlanta - year: (1996)\n",
      "City: Sydney - year: (2000)\n",
      "City: Athens - year: (2004)\n",
      "City: Beijing - year: (2008)\n",
      "City: London - year: (2012)\n",
      "City: Rio - year: (2016)\n"
     ]
    }
   ],
   "source": [
    "for game in open('games.txt', 'r'):\n",
    "    city = game.split()[0]\n",
    "    year = game.split()[1]\n",
    "    \n",
    "    print(\"City:\", city, \"- year:\", year)"
   ]
  },
  {
   "cell_type": "code",
   "execution_count": null,
   "metadata": {},
   "outputs": [],
   "source": [
    "for game in open('games.txt', 'r'):\n",
    "    words = game.split()\n",
    "    \n",
    "    city = ' '.join(words[:-1])   # join all tokens but last one\n",
    "    year = words[-1].strip('()')  # last token, minus ()\n",
    "    \n",
    "    print(\"City:\", city, \"- year:\", year)"
   ]
  },
  {
   "cell_type": "code",
   "execution_count": null,
   "metadata": {},
   "outputs": [],
   "source": [
    "cities, years = [], []  # note \"tuple unrolling\" assignment  \n",
    "\n",
    "for game in open('games.txt', 'r'):\n",
    "    words = game.split()\n",
    "    \n",
    "    city = ' '.join(words[:-1])   # join all tokens but last one\n",
    "    year = words[-1].strip('()')  # last token, minus ()\n",
    "    \n",
    "    cities.append(city)\n",
    "    years.append(year)"
   ]
  },
  {
   "cell_type": "code",
   "execution_count": null,
   "metadata": {},
   "outputs": [],
   "source": [
    "# On a slow connection it may be necessary to give `Nominatim` a timeout parameter\n",
    "# higher than the default (for example, `timeout = 10`).\n",
    "\n",
    "geolocator = geopy.geocoders.Nominatim(user_agent='programming-efficiently')\n",
    "\n",
    "# the geopy documentation (https://geopy.readthedocs.io/en/stable/) describes all\n",
    "# the geocoding services that it wraps. Several require registrating and obtaining\n",
    "# an API key; at the time of recording this course, a API-key-free alternative to \n",
    "# Nominatim is ArcGIS:\n",
    "# \n",
    "# geolocator = geopy.geocoders.ArcGIS()"
   ]
  },
  {
   "cell_type": "code",
   "execution_count": null,
   "metadata": {},
   "outputs": [],
   "source": [
    "locations = {}\n",
    "\n",
    "for city in cities:\n",
    "    print(\"Locating\", city)\n",
    "\n",
    "    locations[city] = geolocator.geocode(city.split('/')[0])"
   ]
  },
  {
   "cell_type": "code",
   "execution_count": null,
   "metadata": {},
   "outputs": [],
   "source": [
    "locations['Rome']"
   ]
  },
  {
   "cell_type": "code",
   "execution_count": null,
   "metadata": {},
   "outputs": [],
   "source": [
    "locations['Paris']"
   ]
  },
  {
   "cell_type": "code",
   "execution_count": null,
   "metadata": {},
   "outputs": [],
   "source": [
    "locations['Paris'].latitude, locations['Paris'].longitude"
   ]
  },
  {
   "cell_type": "code",
   "execution_count": null,
   "metadata": {},
   "outputs": [],
   "source": [
    "pp.figure(figsize=(10,5))\n",
    "\n",
    "axes = pp.axes(projection=cartopy.crs.PlateCarree())\n",
    "\n",
    "axes.add_feature(cartopy.feature.COASTLINE, linewidth=0.5)\n",
    "axes.add_feature(cartopy.feature.BORDERS, linewidth=0.5)"
   ]
  },
  {
   "cell_type": "code",
   "execution_count": null,
   "metadata": {},
   "outputs": [],
   "source": [
    "pp.figure(figsize=(10,5))\n",
    "axes = pp.axes(projection=cartopy.crs.PlateCarree())\n",
    "axes.add_feature(cartopy.feature.COASTLINE, linewidth=0.5)\n",
    "axes.add_feature(cartopy.feature.BORDERS, linewidth=0.5)\n",
    "\n",
    "for pos in locations.values():\n",
    "    axes.plot(pos.longitude, pos.latitude, 'r.')"
   ]
  },
  {
   "cell_type": "code",
   "execution_count": null,
   "metadata": {},
   "outputs": [],
   "source": [
    "pp.figure(figsize=(10,5))\n",
    "axes = pp.axes(projection=cartopy.crs.PlateCarree())\n",
    "axes.add_feature(cartopy.feature.COASTLINE, linewidth=0.5)\n",
    "axes.add_feature(cartopy.feature.BORDERS, linewidth=0.5)\n",
    "\n",
    "for pos in locations.values():\n",
    "    axes.plot(pos.longitude, pos.latitude, 'r.')\n",
    "    \n",
    "pp.axis(xmin=-180,xmax=180,ymin=-90,ymax=90);"
   ]
  },
  {
   "cell_type": "code",
   "execution_count": null,
   "metadata": {},
   "outputs": [],
   "source": [
    "for i, city in enumerate(cities[:10]):\n",
    "    print(i, city)"
   ]
  },
  {
   "cell_type": "code",
   "execution_count": null,
   "metadata": {},
   "outputs": [],
   "source": [
    "for city in sorted(cities[:10]):\n",
    "    print(city)"
   ]
  },
  {
   "cell_type": "code",
   "execution_count": null,
   "metadata": {},
   "outputs": [],
   "source": [
    "for city in sorted(cities[:10], key=len):\n",
    "    print(city)"
   ]
  },
  {
   "cell_type": "code",
   "execution_count": null,
   "metadata": {},
   "outputs": [],
   "source": [
    "for i, city in enumerate(reversed(cities[:10])):\n",
    "    print(i, city)"
   ]
  },
  {
   "cell_type": "code",
   "execution_count": null,
   "metadata": {},
   "outputs": [],
   "source": [
    "for year, city in zip(years[:10], cities):\n",
    "    print(year,city)"
   ]
  },
  {
   "cell_type": "code",
   "execution_count": null,
   "metadata": {},
   "outputs": [],
   "source": [
    "import itertools"
   ]
  }
 ],
 "metadata": {
  "anaconda-cloud": {},
  "kernelspec": {
   "display_name": "Python 3 (ipykernel)",
   "language": "python",
   "name": "python3"
  },
  "language_info": {
   "codemirror_mode": {
    "name": "ipython",
    "version": 3
   },
   "file_extension": ".py",
   "mimetype": "text/x-python",
   "name": "python",
   "nbconvert_exporter": "python",
   "pygments_lexer": "ipython3",
   "version": "3.9.13"
  }
 },
 "nbformat": 4,
 "nbformat_minor": 1
}
